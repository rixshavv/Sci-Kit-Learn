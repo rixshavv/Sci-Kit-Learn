{
 "cells": [
  {
   "cell_type": "code",
   "id": "initial_id",
   "metadata": {
    "collapsed": true,
    "ExecuteTime": {
     "end_time": "2025-06-22T19:54:52.505237Z",
     "start_time": "2025-06-22T19:54:52.500877Z"
    }
   },
   "source": [
    "# ✅ What is Gradient Boosting Regressor?\n",
    "# Gradient Boosting Regressor (GBR) is an ensemble machine learning method used for regression tasks.\n",
    "# It builds a strong predictive model by combining multiple weak prediction models (typically decision trees) in a sequential way.\n",
    "#\n",
    "# 👉 Key idea:\n",
    "#\n",
    "# Each new tree tries to fix the errors (residuals) of the previous trees.\n",
    "#\n",
    "# This process repeats — gradually improving the overall prediction.\n",
    "#\n",
    "# It’s called “gradient” boosting because it minimizes the loss function using a gradient descent-like approach.\n",
    "#\n",
    "# ✅ Real-World Example\n",
    "# Imagine you predict house prices:\n",
    "#\n",
    "# 1st tree makes a rough prediction.\n",
    "#\n",
    "# 2nd tree learns from what the 1st tree got wrong.\n",
    "#\n",
    "# 3rd tree learns from remaining errors.\n",
    "#\n",
    "# Final prediction = sum of all trees’ predictions.\n",
    "#\n",
    "# Result: High accuracy without overfitting too much (if tuned properly)."
   ],
   "outputs": [],
   "execution_count": 1
  },
  {
   "metadata": {
    "ExecuteTime": {
     "end_time": "2025-06-22T19:55:02.612076Z",
     "start_time": "2025-06-22T19:55:00.688492Z"
    }
   },
   "cell_type": "code",
   "source": [
    "# ✅ Import libraries\n",
    "from sklearn.ensemble import GradientBoostingRegressor\n",
    "from sklearn.datasets import make_regression\n",
    "from sklearn.model_selection import train_test_split\n",
    "from sklearn.metrics import mean_squared_error\n",
    "\n",
    "# ✅ Create a synthetic regression dataset\n",
    "X, y = make_regression(n_samples=1000, n_features=20, noise=0.1, random_state=42)\n",
    "\n",
    "# ✅ Split into training and testing sets\n",
    "X_train, X_test, y_train, y_test = train_test_split(X, y, test_size=0.3, random_state=42)\n",
    "\n",
    "# ✅ Create the Gradient Boosting Regressor\n",
    "model = GradientBoostingRegressor(n_estimators=100, learning_rate=0.1, max_depth=3, random_state=42)\n",
    "\n",
    "# ✅ Train the model\n",
    "model.fit(X_train, y_train)\n",
    "\n",
    "# ✅ Predict on test data\n",
    "y_pred = model.predict(X_test)\n",
    "\n",
    "# ✅ Evaluate with RMSE\n",
    "mse = mean_squared_error(y_test, y_pred)\n",
    "rmse = mse ** 0.5\n",
    "print(f\"Root Mean Squared Error: {rmse:.2f}\")\n"
   ],
   "id": "3f600db6e2c079c6",
   "outputs": [
    {
     "name": "stdout",
     "output_type": "stream",
     "text": [
      "Root Mean Squared Error: 58.10\n"
     ]
    }
   ],
   "execution_count": 2
  },
  {
   "metadata": {},
   "cell_type": "code",
   "outputs": [],
   "execution_count": null,
   "source": "",
   "id": "e5ae47782144894f"
  }
 ],
 "metadata": {
  "kernelspec": {
   "display_name": "Python 3",
   "language": "python",
   "name": "python3"
  },
  "language_info": {
   "codemirror_mode": {
    "name": "ipython",
    "version": 2
   },
   "file_extension": ".py",
   "mimetype": "text/x-python",
   "name": "python",
   "nbconvert_exporter": "python",
   "pygments_lexer": "ipython2",
   "version": "2.7.6"
  }
 },
 "nbformat": 4,
 "nbformat_minor": 5
}
