{
 "cells": [
  {
   "cell_type": "code",
   "id": "initial_id",
   "metadata": {
    "collapsed": true,
    "ExecuteTime": {
     "end_time": "2025-06-22T19:31:51.727753Z",
     "start_time": "2025-06-22T19:31:51.723618Z"
    }
   },
   "source": [
    "# ✅ What is AdaBoost?\n",
    "# AdaBoost (Adaptive Boosting) is an ensemble learning method that:\n",
    "#\n",
    "# Combines many weak classifiers (like shallow decision trees) into a strong classifier.\n",
    "#\n",
    "# Focuses more on data points that previous classifiers misclassified.\n",
    "#\n",
    "# In each round, it trains a new weak model and adjusts weights for misclassified samples.\n",
    "#\n",
    "# Final prediction is a weighted vote of all the weak learners.\n",
    "#\n",
    "# ✅ Real-World Analogy\n",
    "# Imagine a panel of simple judges, each not very accurate alone.\n",
    "# But after each round, they focus more on the cases they got wrong before.\n",
    "# Together, their combined opinion is strong and accurate.\n",
    "\n",
    "\n"
   ],
   "outputs": [],
   "execution_count": 1
  },
  {
   "metadata": {
    "ExecuteTime": {
     "end_time": "2025-06-22T19:32:11.295282Z",
     "start_time": "2025-06-22T19:31:58.885221Z"
    }
   },
   "cell_type": "code",
   "source": [
    "# ✅ Import libraries\n",
    "from sklearn.ensemble import AdaBoostClassifier\n",
    "from sklearn.datasets import make_classification\n",
    "from sklearn.model_selection import train_test_split\n",
    "from sklearn.metrics import accuracy_score\n",
    "\n",
    "# ✅ Create synthetic dataset\n",
    "X, y = make_classification(n_samples=1000, n_features=20,\n",
    "                           n_informative=10, n_redundant=10,\n",
    "                           random_state=42)\n",
    "\n",
    "# ✅ Split into train & test sets\n",
    "X_train, X_test, y_train, y_test = train_test_split(X, y,\n",
    "                                                    test_size=0.3,\n",
    "                                                    random_state=42)\n",
    "\n",
    "# ✅ Create AdaBoost classifier with Decision Trees as base estimator\n",
    "model = AdaBoostClassifier(n_estimators=50, random_state=42)\n",
    "\n",
    "# ✅ Train the model\n",
    "model.fit(X_train, y_train)\n",
    "\n",
    "# ✅ Make predictions\n",
    "y_pred = model.predict(X_test)\n",
    "\n",
    "# ✅ Evaluate accuracy\n",
    "accuracy = accuracy_score(y_test, y_pred)\n",
    "print(f\"Accuracy: {accuracy:.2f}\")\n"
   ],
   "id": "a0169c7b24fbaab5",
   "outputs": [
    {
     "name": "stdout",
     "output_type": "stream",
     "text": [
      "Accuracy: 0.90\n"
     ]
    }
   ],
   "execution_count": 2
  }
 ],
 "metadata": {
  "kernelspec": {
   "display_name": "Python 3",
   "language": "python",
   "name": "python3"
  },
  "language_info": {
   "codemirror_mode": {
    "name": "ipython",
    "version": 2
   },
   "file_extension": ".py",
   "mimetype": "text/x-python",
   "name": "python",
   "nbconvert_exporter": "python",
   "pygments_lexer": "ipython2",
   "version": "2.7.6"
  }
 },
 "nbformat": 4,
 "nbformat_minor": 5
}
